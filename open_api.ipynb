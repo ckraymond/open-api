{
  "nbformat": 4,
  "nbformat_minor": 0,
  "metadata": {
    "colab": {
      "provenance": [],
      "authorship_tag": "ABX9TyNaxLZbT6gxAfBd2jx25/xQ",
      "include_colab_link": true
    },
    "kernelspec": {
      "name": "python3",
      "display_name": "Python 3"
    },
    "language_info": {
      "name": "python"
    }
  },
  "cells": [
    {
      "cell_type": "markdown",
      "metadata": {
        "id": "view-in-github",
        "colab_type": "text"
      },
      "source": [
        "<a href=\"https://colab.research.google.com/github/ckraymond/open-api/blob/main/open_api.ipynb\" target=\"_parent\"><img src=\"https://colab.research.google.com/assets/colab-badge.svg\" alt=\"Open In Colab\"/></a>"
      ]
    },
    {
      "cell_type": "markdown",
      "source": [
        "# OpenAI API Test\n",
        "\n",
        "The purpose of this lab is to experiment with API connections to OpenAI and other sources."
      ],
      "metadata": {
        "id": "cuA8T2gIYmEF"
      }
    },
    {
      "cell_type": "code",
      "source": [
        "%%capture\n",
        "\n",
        "# Install the OpenAI Python library\n",
        "!pip install --upgrade openai\n",
        "\n",
        "# Access my secret key\n",
        "import openai\n",
        "import os\n",
        "from google.colab import userdata\n",
        "\n",
        "os.environ['OPENAI_API_KEY'] = userdata.get('OPEN_API_KEY')"
      ],
      "metadata": {
        "id": "0K5YnWBzYzhd",
        "collapsed": true
      },
      "execution_count": 16,
      "outputs": []
    },
    {
      "cell_type": "markdown",
      "source": [],
      "metadata": {
        "id": "cv4zKh5Rjdri"
      }
    },
    {
      "cell_type": "code",
      "source": [
        "client = openai.OpenAI()\n",
        "\n",
        "completion = client.chat.completions.create(\n",
        "  model=\"gpt-3.5-turbo\",\n",
        "  messages=[\n",
        "    {\"role\": \"system\", \"content\": \"You are a poetic assistant, skilled in explaining complex programming concepts with creative flair.\"},\n",
        "    {\"role\": \"user\", \"content\": \"Compose a poem that explains the concept of recursion in programming.\"}\n",
        "  ]\n",
        ")\n",
        "\n",
        "print(completion.choices[0].message.content)"
      ],
      "metadata": {
        "colab": {
          "base_uri": "https://localhost:8080/"
        },
        "id": "U9tNki7Sjj3Y",
        "outputId": "cf885249-f6af-4558-e395-349568f602a2"
      },
      "execution_count": 17,
      "outputs": [
        {
          "output_type": "stream",
          "name": "stdout",
          "text": [
            "In the realm of code, a concept profound,\n",
            "Where functions call themselves, values unbound,\n",
            "Recursion whispers a mystical tale,\n",
            "Of loops within loops, a recursive trail.\n",
            "\n",
            "Like a mirror reflecting its own reflection,\n",
            "In recursive functions, a dreamlike connection,\n",
            "A function repeats, itself it invokes,\n",
            "Until a condition brings it to a close.\n",
            "\n",
            "Like a Russian doll, nested layers deep,\n",
            "Recursion explores a problem unique,\n",
            "Dividing and conquering, with elegant grace,\n",
            "Solving complex tasks in a recursive embrace.\n",
            "\n",
            "Yet beware the infinite loop's siren song,\n",
            "Recursive calls must break before long,\n",
            "Base case in hand, the end to seek,\n",
            "Recursion dances, both elegant and meek.\n",
            "\n",
            "So cherish this concept, a powerful art,\n",
            "In the programmer's toolkit, a vital part,\n",
            "Recursion, a poet in the coding expanse,\n",
            "Weaving magic and logic with each recursive dance.\n"
          ]
        }
      ]
    }
  ]
}